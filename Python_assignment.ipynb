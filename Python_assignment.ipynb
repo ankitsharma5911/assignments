{
 "cells": [
  {
   "cell_type": "markdown",
   "id": "37f6da4a-8228-4de8-a508-eee63c6af246",
   "metadata": {},
   "source": [
    "Create a function which will take a list as an argument and return the product of all the numbers \n",
    "\n",
    "after creating a flat list.\n",
    "\n",
    "\n",
    "Use the below-given list as an argument for your function.\n",
    "\n",
    "\n",
    "\n",
    "list1 = [1,2,3,4, [44,55,66, True], False, (34,56,78,89,34), {1,2,3,3,2,1}, {1:34, \"key2\": [55, 67, 78, 89], 4: (45, \n",
    "\n",
    "22, 61, 34)}, [56, 'data science'], 'Machine Learning']\n",
    "\n",
    "\n",
    "\n",
    "Note: you must extract numeric keys and values of the dictionary also."
   ]
  },
  {
   "cell_type": "code",
   "execution_count": 2,
   "id": "15aa48b8-186e-4f72-9fe0-99331055c9fa",
   "metadata": {},
   "outputs": [
    {
     "name": "stdout",
     "output_type": "stream",
     "text": [
      "0\n"
     ]
    }
   ],
   "source": [
    "from functools import reduce\n",
    "\n",
    "def flatten_and_product(input_list):\n",
    "    flat_list = []\n",
    "\n",
    "    def flatten(item):\n",
    "        if isinstance(item, (list, tuple, set)):\n",
    "            for subitem in item:\n",
    "                flatten(subitem)\n",
    "        elif isinstance(item, dict):\n",
    "            for key, value in item.items():\n",
    "                if isinstance(key, (int, float)):\n",
    "                    flat_list.append(key)\n",
    "                flatten(value)\n",
    "        elif isinstance(item, (int, float)):\n",
    "            flat_list.append(item)\n",
    "        # Skip any other types (e.g., strings, booleans)\n",
    "\n",
    "    flatten(input_list)\n",
    "    product = reduce(lambda x, y: x * y, flat_list, 1)\n",
    "    return product\n",
    "\n",
    "# Example usage\n",
    "list1 = [1, 2, 3, 4, [44, 55, 66, True], False, (34, 56, 78, 89, 34), {1, 2, 3, 3, 2, 1}, \n",
    "         {1: 34, \"key2\": [55, 67, 78, 89], 4: (45, 22, 61, 34)}, [56, 'data science'], 'Machine Learning']\n",
    "\n",
    "result = flatten_and_product(list1)\n",
    "print(result)\n"
   ]
  },
  {
   "cell_type": "markdown",
   "id": "99537e84-0e35-46d1-b72a-26d8121f7a87",
   "metadata": {},
   "source": [
    "Write a python program for encrypting a message sent to you by your friend. The logic of encryption \n",
    "\n",
    "should be such that, for a the output should be z. For b, the output should be y. For c, the output should \n",
    "\n",
    "be x respectively. Also, the whitespace should be replaced with a dollar sign. Keep the punctuation \n",
    "\n",
    "marks unchanged.\n",
    "\n",
    "\n",
    "\n",
    "Input Sentence: I want to become a Data Scientist.\n",
    "\n",
    "\n",
    "\n",
    "Encrypt the above input sentence using the program you just created.\n",
    "\n",
    "\n",
    "\n",
    "Note: Convert the given input sentence into lowercase before encrypting. The final output should be \n",
    "\n",
    "lowercase."
   ]
  },
  {
   "cell_type": "code",
   "execution_count": 3,
   "id": "c5094bcb-c2cb-4316-b3c0-6868db812d7f",
   "metadata": {},
   "outputs": [
    {
     "name": "stdout",
     "output_type": "stream",
     "text": [
      "Encrypted Sentence: r$dzmg$gl$yvxlnv$z$wzgz$hxrvmgrhg.\n"
     ]
    }
   ],
   "source": [
    "def encrypt_message(message):\n",
    "    # Create a dictionary for the encryption logic\n",
    "    encryption_dict = {}\n",
    "    for i in range(26):\n",
    "        encryption_dict[chr(97 + i)] = chr(122 - i)\n",
    "    \n",
    "    # Convert the message to lowercase\n",
    "    message = message.lower()\n",
    "    \n",
    "    # Encrypt the message\n",
    "    encrypted_message = []\n",
    "    for char in message:\n",
    "        if char in encryption_dict:\n",
    "            encrypted_message.append(encryption_dict[char])\n",
    "        elif char == ' ':\n",
    "            encrypted_message.append('$')\n",
    "        else:\n",
    "            encrypted_message.append(char)\n",
    "    \n",
    "    # Join the list into a string\n",
    "    return ''.join(encrypted_message)\n",
    "\n",
    "# Input sentence\n",
    "input_sentence = \"I want to become a Data Scientist.\"\n",
    "\n",
    "# Encrypt the input sentence\n",
    "encrypted_sentence = encrypt_message(input_sentence)\n",
    "\n",
    "print(\"Encrypted Sentence:\", encrypted_sentence)\n"
   ]
  },
  {
   "cell_type": "code",
   "execution_count": null,
   "id": "b90dab53-7168-423e-81e4-7acb4e9a17da",
   "metadata": {},
   "outputs": [],
   "source": []
  }
 ],
 "metadata": {
  "kernelspec": {
   "display_name": "Python 3 (ipykernel)",
   "language": "python",
   "name": "python3"
  },
  "language_info": {
   "codemirror_mode": {
    "name": "ipython",
    "version": 3
   },
   "file_extension": ".py",
   "mimetype": "text/x-python",
   "name": "python",
   "nbconvert_exporter": "python",
   "pygments_lexer": "ipython3",
   "version": "3.11.4"
  }
 },
 "nbformat": 4,
 "nbformat_minor": 5
}
