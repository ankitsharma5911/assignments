{
 "cells": [
  {
   "cell_type": "code",
   "execution_count": 1,
   "metadata": {},
   "outputs": [],
   "source": [
    "import numpy as np"
   ]
  },
  {
   "cell_type": "markdown",
   "metadata": {},
   "source": [
    "1. Create a NumPy array 'arr' of integers from 0 to 5 and print its data type. "
   ]
  },
  {
   "cell_type": "code",
   "execution_count": 2,
   "metadata": {},
   "outputs": [
    {
     "data": {
      "text/plain": [
       "dtype('float64')"
      ]
     },
     "execution_count": 2,
     "metadata": {},
     "output_type": "execute_result"
    }
   ],
   "source": [
    "arr = np.array([1.5, 2.6, 3.7])\n",
    "arr.dtype"
   ]
  },
  {
   "cell_type": "markdown",
   "metadata": {},
   "source": [
    " 3. Create a NumPy array 'arr' with a data type of complex128 containing three complex numbers."
   ]
  },
  {
   "cell_type": "code",
   "execution_count": 3,
   "metadata": {},
   "outputs": [
    {
     "data": {
      "text/plain": [
       "dtype('complex128')"
      ]
     },
     "execution_count": 3,
     "metadata": {},
     "output_type": "execute_result"
    }
   ],
   "source": [
    "arr = np.array([1+6j, 2.5+5j, 45+89j])\n",
    "arr.dtype\n"
   ]
  },
  {
   "cell_type": "markdown",
   "metadata": {},
   "source": [
    " 4. Convert an existing NumPy array 'arr' of integers to float32 data type."
   ]
  },
  {
   "cell_type": "code",
   "execution_count": 4,
   "metadata": {},
   "outputs": [
    {
     "data": {
      "text/plain": [
       "dtype('float32')"
      ]
     },
     "execution_count": 4,
     "metadata": {},
     "output_type": "execute_result"
    }
   ],
   "source": [
    "arr = np.array([1,2,3,4,5,6])\n",
    "arr = arr.astype(np.float32)\n",
    "arr.dtype"
   ]
  },
  {
   "cell_type": "markdown",
   "metadata": {},
   "source": [
    "5. Given a NumPy array 'arr' with float64 data type, convert it to float32 to reduce decimal precision."
   ]
  },
  {
   "cell_type": "code",
   "execution_count": 5,
   "metadata": {},
   "outputs": [
    {
     "name": "stdout",
     "output_type": "stream",
     "text": [
      "float64\n"
     ]
    },
    {
     "data": {
      "text/plain": [
       "array([1.5, 2.6, 3.7], dtype=float32)"
      ]
     },
     "execution_count": 5,
     "metadata": {},
     "output_type": "execute_result"
    }
   ],
   "source": [
    "arr = np.array([1.5, 2.6, 3.7])\n",
    "print(arr.dtype)\n",
    "arr = arr.astype(np.float32)\n",
    "arr"
   ]
  },
  {
   "cell_type": "markdown",
   "metadata": {},
   "source": [
    "6. Write a function array_attributes that takes a NumPy array as input and returns its shape, size, and data Type"
   ]
  },
  {
   "cell_type": "code",
   "execution_count": 6,
   "metadata": {},
   "outputs": [
    {
     "name": "stdout",
     "output_type": "stream",
     "text": [
      "(3,)\n",
      "3\n",
      "float64\n"
     ]
    }
   ],
   "source": [
    "def array_attributes(arr):\n",
    "    print(arr.shape)\n",
    "    print(arr.size)\n",
    "    print(arr.dtype)\n",
    "\n",
    "arr = np.array([1.5, 2.6, 3.7])\n",
    "array_attributes(arr)\n"
   ]
  },
  {
   "cell_type": "markdown",
   "metadata": {},
   "source": [
    "7. Create a function array_dimension that takes a NumPy array as input and returns its dimensionality."
   ]
  },
  {
   "cell_type": "code",
   "execution_count": 7,
   "metadata": {},
   "outputs": [
    {
     "data": {
      "text/plain": [
       "1"
      ]
     },
     "execution_count": 7,
     "metadata": {},
     "output_type": "execute_result"
    }
   ],
   "source": [
    "def array_dimension(arr):\n",
    "    return arr.ndim\n",
    "\n",
    "arr = np.array([1.5, 2.6, 3.7])\n",
    "array_dimension(arr)\n"
   ]
  },
  {
   "cell_type": "markdown",
   "metadata": {},
   "source": [
    "8. Design a function item_size_info that takes a NumPy array as input and returns the item size and the total \n",
    "size in bytes."
   ]
  },
  {
   "cell_type": "code",
   "execution_count": 8,
   "metadata": {},
   "outputs": [
    {
     "name": "stdout",
     "output_type": "stream",
     "text": [
      "array size : 3\n",
      " \n",
      "size of array in bytes : 12\n"
     ]
    }
   ],
   "source": [
    "def item_size_info(arr):\n",
    "    return arr.size, arr.nbytes\n",
    "\n",
    "arr = np.array([1, 2, 3])\n",
    "size , bytes = item_size_info(arr)\n",
    "print(f\"array size : {size}\\n \")\n",
    "print(f\"size of array in bytes : {bytes}\")\n",
    "\n"
   ]
  },
  {
   "cell_type": "markdown",
   "metadata": {},
   "source": [
    "9. Create a function array_strides that takes a NumPy array as input and returns the strides of the array."
   ]
  },
  {
   "cell_type": "code",
   "execution_count": 9,
   "metadata": {},
   "outputs": [
    {
     "data": {
      "text/plain": [
       "(20, 4)"
      ]
     },
     "execution_count": 9,
     "metadata": {},
     "output_type": "execute_result"
    }
   ],
   "source": [
    "def array_strides(array):\n",
    "    return array.strides\n",
    "\n",
    "\n",
    "x = np.array([[0, 1, 2, 3, 4],\n",
    "              [5, 6, 7, 8, 9]], dtype=np.int32)\n",
    "array_strides(x)"
   ]
  },
  {
   "cell_type": "markdown",
   "metadata": {},
   "source": [
    "10. Design a function shape_stride_relationship that takes a NumPy array as input and returns the shape \n",
    "and strides of the array."
   ]
  },
  {
   "cell_type": "code",
   "execution_count": 10,
   "metadata": {},
   "outputs": [
    {
     "data": {
      "text/plain": [
       "((2, 5), (20, 4))"
      ]
     },
     "execution_count": 10,
     "metadata": {},
     "output_type": "execute_result"
    }
   ],
   "source": [
    "def shape_stride_relationship(array):\n",
    "    return array.shape, array.strides\n",
    "\n",
    "x = np.array([[0, 1, 2, 3, 4],\n",
    "              [5, 6, 7, 8, 9]], dtype=np.int32)\n",
    "shape_stride_relationship(x)"
   ]
  },
  {
   "cell_type": "markdown",
   "metadata": {},
   "source": [
    " 11. Create a function `create_zeros_array` that takes an integer `n` as input and returns a NumPy array of \n",
    "zeros with `n` elements."
   ]
  },
  {
   "cell_type": "code",
   "execution_count": 11,
   "metadata": {},
   "outputs": [
    {
     "data": {
      "text/plain": [
       "array([0, 0, 0, 0, 0])"
      ]
     },
     "execution_count": 11,
     "metadata": {},
     "output_type": "execute_result"
    }
   ],
   "source": [
    "def create_zeros_array(n):\n",
    "    \n",
    "    return np.zeros(n,int)\n",
    "x = 5\n",
    "create_zeros_array(x)\n",
    "    \n",
    "    "
   ]
  },
  {
   "cell_type": "markdown",
   "metadata": {},
   "source": [
    " 12. Write a function `create_ones_matrix` that takes integers `rows` and `cols` as inputs and generates a 2D \n",
    "NumPy array filled with ones of size `rows x cols`."
   ]
  },
  {
   "cell_type": "code",
   "execution_count": 12,
   "metadata": {},
   "outputs": [
    {
     "data": {
      "text/plain": [
       "array([[1, 1, 1, 1, 1, 1],\n",
       "       [1, 1, 1, 1, 1, 1],\n",
       "       [1, 1, 1, 1, 1, 1],\n",
       "       [1, 1, 1, 1, 1, 1],\n",
       "       [1, 1, 1, 1, 1, 1]])"
      ]
     },
     "execution_count": 12,
     "metadata": {},
     "output_type": "execute_result"
    }
   ],
   "source": [
    "def create_ones_matrix(x,y):\n",
    "    return np.ones((x,y),int)\n",
    "create_ones_matrix(5,6)"
   ]
  },
  {
   "cell_type": "markdown",
   "metadata": {},
   "source": [
    " 13. Write a function `generate_range_array` that takes three integers start, stop, and step as arguments and \n",
    "creates a NumPy array with a range starting from `start`, ending at stop (exclusive), and with the specified \n",
    "`step`."
   ]
  },
  {
   "cell_type": "code",
   "execution_count": 13,
   "metadata": {},
   "outputs": [
    {
     "data": {
      "text/plain": [
       "array([1, 3, 5])"
      ]
     },
     "execution_count": 13,
     "metadata": {},
     "output_type": "execute_result"
    }
   ],
   "source": [
    "def generate_range_array(x,y,z):\n",
    "    return np.arange(x,y,z)\n",
    "generate_range_array(1,6,2)\n"
   ]
  },
  {
   "cell_type": "markdown",
   "metadata": {},
   "source": [
    "14. Design a function `generate_linear_space` that takes two floats `start`, `stop`, and an integer `num` as \n",
    "arguments and generates a NumPy array with num equally spaced values between `start` and `stop` \n",
    "(inclusive)."
   ]
  },
  {
   "cell_type": "code",
   "execution_count": 14,
   "metadata": {},
   "outputs": [
    {
     "data": {
      "text/plain": [
       "array([ 1.        ,  1.18367347,  1.36734694,  1.55102041,  1.73469388,\n",
       "        1.91836735,  2.10204082,  2.28571429,  2.46938776,  2.65306122,\n",
       "        2.83673469,  3.02040816,  3.20408163,  3.3877551 ,  3.57142857,\n",
       "        3.75510204,  3.93877551,  4.12244898,  4.30612245,  4.48979592,\n",
       "        4.67346939,  4.85714286,  5.04081633,  5.2244898 ,  5.40816327,\n",
       "        5.59183673,  5.7755102 ,  5.95918367,  6.14285714,  6.32653061,\n",
       "        6.51020408,  6.69387755,  6.87755102,  7.06122449,  7.24489796,\n",
       "        7.42857143,  7.6122449 ,  7.79591837,  7.97959184,  8.16326531,\n",
       "        8.34693878,  8.53061224,  8.71428571,  8.89795918,  9.08163265,\n",
       "        9.26530612,  9.44897959,  9.63265306,  9.81632653, 10.        ])"
      ]
     },
     "execution_count": 14,
     "metadata": {},
     "output_type": "execute_result"
    }
   ],
   "source": [
    "def generate_linear_space(x,y,z):\n",
    "    return np.linspace(x,y,z)\n",
    "generate_linear_space(1,10,50)"
   ]
  },
  {
   "cell_type": "markdown",
   "metadata": {},
   "source": [
    "15. Create a function `create_identity_matrix` that takes an integer `n` as input and generates a square \n",
    "identity matrix of size `n x n` using `numpy.eye`."
   ]
  },
  {
   "cell_type": "code",
   "execution_count": 15,
   "metadata": {},
   "outputs": [
    {
     "data": {
      "text/plain": [
       "array([[1., 0., 0., 0., 0.],\n",
       "       [0., 1., 0., 0., 0.],\n",
       "       [0., 0., 1., 0., 0.],\n",
       "       [0., 0., 0., 1., 0.],\n",
       "       [0., 0., 0., 0., 1.]])"
      ]
     },
     "execution_count": 15,
     "metadata": {},
     "output_type": "execute_result"
    }
   ],
   "source": [
    "def create_identity_matrix(n):\n",
    "    return np.eye(n)\n",
    "create_identity_matrix(5)"
   ]
  },
  {
   "cell_type": "markdown",
   "metadata": {},
   "source": [
    "16. Write a function that takes a Python list and converts it into a NumPy array."
   ]
  },
  {
   "cell_type": "code",
   "execution_count": 16,
   "metadata": {},
   "outputs": [
    {
     "data": {
      "text/plain": [
       "array([1, 2, 3, 4, 5, 6])"
      ]
     },
     "execution_count": 16,
     "metadata": {},
     "output_type": "execute_result"
    }
   ],
   "source": [
    "def list_array(list):\n",
    "    return np.array(list)\n",
    "list = [1,2,3,4,5,6]\n",
    "list_array(list)\n",
    "    "
   ]
  },
  {
   "cell_type": "markdown",
   "metadata": {},
   "source": [
    "17. Create a NumPy array and demonstrate the use of `numpy.view` to create a new array object with the \n",
    "same data."
   ]
  },
  {
   "cell_type": "code",
   "execution_count": 17,
   "metadata": {},
   "outputs": [
    {
     "name": "stdout",
     "output_type": "stream",
     "text": [
      "[ 1  2 34  5  6]\n"
     ]
    }
   ],
   "source": [
    "arr = np.array([1,2,34,5,6])\n",
    "view_array = arr.view()\n",
    "print(view_array)"
   ]
  },
  {
   "cell_type": "markdown",
   "metadata": {},
   "source": [
    "18. Write a function that takes two NumPy arrays and concatenates them along a specified axis."
   ]
  },
  {
   "cell_type": "code",
   "execution_count": 18,
   "metadata": {},
   "outputs": [
    {
     "data": {
      "text/plain": [
       "array([[1, 2],\n",
       "       [3, 4],\n",
       "       [5, 6]])"
      ]
     },
     "execution_count": 18,
     "metadata": {},
     "output_type": "execute_result"
    }
   ],
   "source": [
    "def concatinate_array(arr1,arr2):\n",
    "    return np.concatenate((arr1,arr2) ,axis=0)\n",
    "\n",
    "arr1  = [[1,2],[3,4]]\n",
    "arr2  = [[5,6]]\n",
    "concatinate_array(arr1,arr2)"
   ]
  },
  {
   "cell_type": "markdown",
   "metadata": {},
   "source": [
    "19. Create two NumPy arrays with different shapes and concatenate them horizontally using `numpy.concatenate`."
   ]
  },
  {
   "cell_type": "code",
   "execution_count": 19,
   "metadata": {},
   "outputs": [
    {
     "name": "stdout",
     "output_type": "stream",
     "text": [
      "[[1 2 5]\n",
      " [3 4 6]]\n"
     ]
    }
   ],
   "source": [
    "\n",
    "array1 = np.array([[1, 2], [3, 4]])\n",
    "array2 = np.array([[5], [6]])\n",
    "\n",
    "concatenated_array = np.concatenate((array1, array2), axis=1)\n",
    "\n",
    "print(concatenated_array)\n"
   ]
  },
  {
   "cell_type": "markdown",
   "metadata": {},
   "source": [
    "20. Write a function that vertically stacks multiple NumPy arrays given as a list."
   ]
  },
  {
   "cell_type": "code",
   "execution_count": 20,
   "metadata": {},
   "outputs": [
    {
     "data": {
      "text/plain": [
       "array([[1],\n",
       "       [2],\n",
       "       [3],\n",
       "       [4],\n",
       "       [5],\n",
       "       [6]])"
      ]
     },
     "execution_count": 20,
     "metadata": {},
     "output_type": "execute_result"
    }
   ],
   "source": [
    "def vertically_stack_arrays(array_list):\n",
    "    return np.vstack(array_list)\n",
    "\n",
    "ar = [1,2,3,4,5,6]\n",
    "vertically_stack_arrays(ar)"
   ]
  },
  {
   "cell_type": "markdown",
   "metadata": {},
   "source": [
    "21. Write a Python function using NumPy to create an array of integers within a specified range (inclusive) \n",
    "with a given step size."
   ]
  },
  {
   "cell_type": "code",
   "execution_count": 21,
   "metadata": {},
   "outputs": [
    {
     "data": {
      "text/plain": [
       "array([ 0,  2,  4,  6,  8, 10])"
      ]
     },
     "execution_count": 21,
     "metadata": {},
     "output_type": "execute_result"
    }
   ],
   "source": [
    "def create_numpy_array(start,stop,step):\n",
    "    \n",
    "    return np.arange(start,stop+1,step)\n",
    "\n",
    "create_numpy_array(0,10,2)"
   ]
  },
  {
   "cell_type": "markdown",
   "metadata": {},
   "source": [
    "22. Write a Python function using NumPy to generate an array of 10 equally spaced values between 0 and 1 \n",
    "(inclusive)."
   ]
  },
  {
   "cell_type": "code",
   "execution_count": 22,
   "metadata": {},
   "outputs": [
    {
     "data": {
      "text/plain": [
       "array([0.        , 0.11111111, 0.22222222, 0.33333333, 0.44444444,\n",
       "       0.55555556, 0.66666667, 0.77777778, 0.88888889, 1.        ])"
      ]
     },
     "execution_count": 22,
     "metadata": {},
     "output_type": "execute_result"
    }
   ],
   "source": [
    "def linspace_array(start,stop,n):\n",
    "\n",
    "    return np.linspace(start,stop,n)\n",
    "\n",
    "linspace_array(0,1,10)"
   ]
  },
  {
   "cell_type": "markdown",
   "metadata": {},
   "source": [
    "23. Write a Python function using NumPy to create an array of 5 logarithmically spaced values between 1 and \n",
    "1000 (inclusive)."
   ]
  },
  {
   "cell_type": "code",
   "execution_count": 23,
   "metadata": {},
   "outputs": [
    {
     "name": "stderr",
     "output_type": "stream",
     "text": [
      "C:\\Users\\Dell\\AppData\\Local\\Packages\\PythonSoftwareFoundation.Python.3.12_qbz5n2kfra8p0\\LocalCache\\local-packages\\Python312\\site-packages\\numpy\\core\\function_base.py:298: RuntimeWarning: overflow encountered in power\n",
      "  return _nx.power(base, y)\n"
     ]
    },
    {
     "data": {
      "text/plain": [
       "array([1.00000000e+001, 5.62341325e+250,             inf,             inf,\n",
       "                   inf])"
      ]
     },
     "execution_count": 23,
     "metadata": {},
     "output_type": "execute_result"
    }
   ],
   "source": [
    "def logspace_array(start,stop,n):\n",
    "\n",
    "    return np.logspace(start,stop,num=n,endpoint=True)\n",
    "\n",
    "logspace_array(1,1000,5)"
   ]
  },
  {
   "cell_type": "markdown",
   "metadata": {},
   "source": [
    "24. Create a Pandas DataFrame using a NumPy array that contains 5 rows and 3 columns, where the values \n",
    "are random integers between 1 and 100."
   ]
  },
  {
   "cell_type": "code",
   "execution_count": 24,
   "metadata": {},
   "outputs": [
    {
     "data": {
      "text/html": [
       "<div>\n",
       "<style scoped>\n",
       "    .dataframe tbody tr th:only-of-type {\n",
       "        vertical-align: middle;\n",
       "    }\n",
       "\n",
       "    .dataframe tbody tr th {\n",
       "        vertical-align: top;\n",
       "    }\n",
       "\n",
       "    .dataframe thead th {\n",
       "        text-align: right;\n",
       "    }\n",
       "</style>\n",
       "<table border=\"1\" class=\"dataframe\">\n",
       "  <thead>\n",
       "    <tr style=\"text-align: right;\">\n",
       "      <th></th>\n",
       "      <th>0</th>\n",
       "      <th>1</th>\n",
       "      <th>2</th>\n",
       "    </tr>\n",
       "  </thead>\n",
       "  <tbody>\n",
       "    <tr>\n",
       "      <th>0</th>\n",
       "      <td>15</td>\n",
       "      <td>6</td>\n",
       "      <td>41</td>\n",
       "    </tr>\n",
       "    <tr>\n",
       "      <th>1</th>\n",
       "      <td>31</td>\n",
       "      <td>71</td>\n",
       "      <td>79</td>\n",
       "    </tr>\n",
       "    <tr>\n",
       "      <th>2</th>\n",
       "      <td>93</td>\n",
       "      <td>48</td>\n",
       "      <td>99</td>\n",
       "    </tr>\n",
       "    <tr>\n",
       "      <th>3</th>\n",
       "      <td>13</td>\n",
       "      <td>18</td>\n",
       "      <td>55</td>\n",
       "    </tr>\n",
       "    <tr>\n",
       "      <th>4</th>\n",
       "      <td>68</td>\n",
       "      <td>62</td>\n",
       "      <td>65</td>\n",
       "    </tr>\n",
       "  </tbody>\n",
       "</table>\n",
       "</div>"
      ],
      "text/plain": [
       "    0   1   2\n",
       "0  15   6  41\n",
       "1  31  71  79\n",
       "2  93  48  99\n",
       "3  13  18  55\n",
       "4  68  62  65"
      ]
     },
     "execution_count": 24,
     "metadata": {},
     "output_type": "execute_result"
    }
   ],
   "source": [
    "import pandas as pd\n",
    "df = pd.DataFrame(np.random.randint(1,100,5*3).reshape(5,3))\n",
    "df"
   ]
  },
  {
   "cell_type": "markdown",
   "metadata": {},
   "source": [
    "25. Write a function that takes a Pandas DataFrame and replaces all negative values in a specific column \n",
    "with zeros. Use NumPy operations within the Pandas DataFrame.\n"
   ]
  },
  {
   "cell_type": "code",
   "execution_count": 25,
   "metadata": {},
   "outputs": [
    {
     "name": "stdout",
     "output_type": "stream",
     "text": [
      "   A   B\n",
      "0  1   6\n",
      "1  0   7\n",
      "2  3  -8\n",
      "3  0   9\n",
      "4  5 -10\n"
     ]
    }
   ],
   "source": [
    "def replace_negatives_with_zeros(df, column_name):\n",
    "    df[column_name] = np.maximum(df[column_name], 0)\n",
    "    return df\n",
    "\n",
    "data = {\n",
    "    'A': [1, -2, 3, -4, 5],\n",
    "    'B': [6, 7, -8, 9, -10]\n",
    "}\n",
    "df = pd.DataFrame(data)\n",
    "\n",
    "# Using the previously defined function\n",
    "df = replace_negatives_with_zeros(df, 'A')\n",
    "\n",
    "print(df)\n"
   ]
  },
  {
   "cell_type": "markdown",
   "metadata": {},
   "source": [
    "26. Access the 3rd element from the given NumPy array.\n"
   ]
  },
  {
   "cell_type": "code",
   "execution_count": 26,
   "metadata": {},
   "outputs": [
    {
     "data": {
      "text/plain": [
       "30"
      ]
     },
     "execution_count": 26,
     "metadata": {},
     "output_type": "execute_result"
    }
   ],
   "source": [
    "arr = np.array([10, 20, 30, 40, 50])\n",
    "arr[2]"
   ]
  },
  {
   "cell_type": "markdown",
   "metadata": {},
   "source": [
    "27. Retrieve the element at index (1, 2) from the 2D NumPy array."
   ]
  },
  {
   "cell_type": "code",
   "execution_count": 27,
   "metadata": {},
   "outputs": [
    {
     "data": {
      "text/plain": [
       "6"
      ]
     },
     "execution_count": 27,
     "metadata": {},
     "output_type": "execute_result"
    }
   ],
   "source": [
    "arr_2d = np.array([[1, 2, 3],\n",
    "                   [4, 5, 6],\n",
    "                   [7, 8, 9]])\n",
    "\n",
    "arr_2d[1][2]"
   ]
  },
  {
   "cell_type": "markdown",
   "metadata": {},
   "source": [
    "28. Using boolean indexing, extract elements greater than 5 from the given NumPy array."
   ]
  },
  {
   "cell_type": "code",
   "execution_count": 28,
   "metadata": {},
   "outputs": [
    {
     "data": {
      "text/plain": [
       "array([ 8, 10,  7])"
      ]
     },
     "execution_count": 28,
     "metadata": {},
     "output_type": "execute_result"
    }
   ],
   "source": [
    "arr = np.array([3, 8, 2, 10, 5, 7])\n",
    "\n",
    "bool_index = arr >5\n",
    "arr[bool_index]"
   ]
  },
  {
   "cell_type": "markdown",
   "metadata": {},
   "source": [
    "29. Perform basic slicing to extract elements from index 2 to 5 (inclusive) from the given NumPy array."
   ]
  },
  {
   "cell_type": "code",
   "execution_count": 29,
   "metadata": {},
   "outputs": [
    {
     "data": {
      "text/plain": [
       "array([3, 4, 5, 6])"
      ]
     },
     "execution_count": 29,
     "metadata": {},
     "output_type": "execute_result"
    }
   ],
   "source": [
    "arr = np.array([1, 2, 3, 4, 5, 6, 7, 8, 9])\n",
    "\n",
    "arr[2:6]"
   ]
  },
  {
   "cell_type": "markdown",
   "metadata": {},
   "source": [
    "30. Slice the 2D NumPy array to extract the sub-array `[[2, 3], [5, 6]]` from the given array."
   ]
  },
  {
   "cell_type": "code",
   "execution_count": 30,
   "metadata": {},
   "outputs": [
    {
     "data": {
      "text/plain": [
       "array([[2, 3],\n",
       "       [5, 6]])"
      ]
     },
     "execution_count": 30,
     "metadata": {},
     "output_type": "execute_result"
    }
   ],
   "source": [
    "arr_2d = np.array([[1, 2, 3],\n",
    "                   [4, 5, 6],\n",
    "                   [7, 8, 9]])\n",
    "\n",
    "arr_2d[0:2,1:]"
   ]
  },
  {
   "cell_type": "markdown",
   "metadata": {},
   "source": [
    "31.Write a NumPy function to extract elements in specific order from a given 2D array based on indices \n",
    "provided in another array."
   ]
  },
  {
   "cell_type": "code",
   "execution_count": 31,
   "metadata": {},
   "outputs": [
    {
     "name": "stdout",
     "output_type": "stream",
     "text": [
      "[2 6 7]\n"
     ]
    }
   ],
   "source": [
    "def extract_elements(arr2d, indices):\n",
    "\n",
    "    \n",
    "    # Ensure the indices array is an np.ndarray\n",
    "    indices = np.array(indices)\n",
    "    \n",
    "    # Extract rows and columns separately\n",
    "    rows, cols = indices[:, 0], indices[:, 1]\n",
    "    # print(rows,cols)\n",
    "    \n",
    "    # Use advanced indexing to extract the elements\n",
    "    extracted_elements = arr2d[rows, cols]\n",
    "    \n",
    "    return extracted_elements\n",
    "\n",
    "# Example usage:\n",
    "arr2d = np.array([[1, 2, 3],\n",
    "                  [4, 5, 6],\n",
    "                  [7, 8, 9]])\n",
    "\n",
    "indices = np.array([[0, 1], [1, 2], [2, 0]])\n",
    "\n",
    "extracted = extract_elements(arr2d, indices)\n",
    "print(extracted)\n"
   ]
  },
  {
   "cell_type": "markdown",
   "metadata": {},
   "source": [
    "32. Create a NumPy function that filters elements greater than a threshold from a given 1D array using \n",
    "boolean indexing."
   ]
  },
  {
   "cell_type": "code",
   "execution_count": 32,
   "metadata": {},
   "outputs": [
    {
     "name": "stdout",
     "output_type": "stream",
     "text": [
      "[4 5 6 7 8 9]\n",
      "[4 5 6 7 8 9]\n"
     ]
    }
   ],
   "source": [
    "def element_greater_threshold(arr,th):\n",
    "    greater_array = arr >th\n",
    "\n",
    "    return arr[greater_array]\n",
    "\n",
    "arr2d = np.array([[1, 2, 3],\n",
    "                  [4, 5, 6],\n",
    "                  [7, 8, 9]])\n",
    "arr = np.array([1, 2, 3, 4, 5, 6, 7, 8, 9])\n",
    "print(element_greater_threshold(arr2d,3))\n",
    "print(element_greater_threshold(arr,3))\n",
    "\n"
   ]
  },
  {
   "cell_type": "markdown",
   "metadata": {},
   "source": [
    "33. Develop a NumPy function that extracts specific elements from a 3D array using indices provided in three \n",
    "separate arrays for each dimension."
   ]
  },
  {
   "cell_type": "code",
   "execution_count": 33,
   "metadata": {},
   "outputs": [
    {
     "name": "stdout",
     "output_type": "stream",
     "text": [
      "[ 6 17 19]\n"
     ]
    }
   ],
   "source": [
    "def extract_elements_3d(arr3d, idx1, idx2, idx3):\n",
    "\n",
    "    # Ensure the indices are NumPy arrays\n",
    "    idx1 = np.array(idx1)\n",
    "    idx2 = np.array(idx2)\n",
    "    idx3 = np.array(idx3)\n",
    "    \n",
    "    # Use advanced indexing to extract the elements\n",
    "    extracted_elements = arr3d[idx1, idx2, idx3]\n",
    "    \n",
    "    return extracted_elements\n",
    "\n",
    "# Example usage:\n",
    "arr3d = np.array([[[ 1,  2,  3],\n",
    "                   [ 4,  5,  6],\n",
    "                   [ 7,  8,  9]],\n",
    "                  \n",
    "                  [[10, 11, 12],\n",
    "                   [13, 14, 15],\n",
    "                   [16, 17, 18]],\n",
    "                  \n",
    "                  [[19, 20, 21],\n",
    "                   [22, 23, 24],\n",
    "                   [25, 26, 27]]])\n",
    "\n",
    "idx1 = [0, 1, 2]\n",
    "idx2 = [1, 2, 0]\n",
    "idx3 = [2, 1, 0]\n",
    "\n",
    "extracted = extract_elements_3d(arr3d, idx1, idx2, idx3)\n",
    "print(extracted)\n"
   ]
  },
  {
   "cell_type": "markdown",
   "metadata": {},
   "source": [
    "34. Write a NumPy function that returns elements from an array where both two conditions are satisfied \n",
    "using boolean indexing."
   ]
  },
  {
   "cell_type": "code",
   "execution_count": 34,
   "metadata": {},
   "outputs": [
    {
     "name": "stdout",
     "output_type": "stream",
     "text": [
      "[4 5 6 7]\n"
     ]
    }
   ],
   "source": [
    "def extract_elements_with_conditions(arr, condition1, condition2):\n",
    "    \"\"\"\n",
    "    Extract elements from an array where both conditions are satisfied.\n",
    "    \n",
    "    Parameters:\n",
    "    arr (np.ndarray): The input array.\n",
    "    condition1 (callable): A function representing the first condition.\n",
    "    condition2 (callable): A function representing the second condition.\n",
    "    \n",
    "    Returns:\n",
    "    np.ndarray: An array of elements that satisfy both conditions.\n",
    "    \"\"\"\n",
    "    # Apply the conditions\n",
    "    mask = condition1(arr) & condition2(arr)\n",
    "    \n",
    "    # Use Boolean indexing to extract the elements\n",
    "    extracted_elements = arr[mask]\n",
    "    \n",
    "    return extracted_elements\n",
    "\n",
    "# Example usage:\n",
    "arr = np.array([1, 2, 3, 4, 5, 6, 7, 8, 9, 10])\n",
    "\n",
    "# Define two conditions\n",
    "condition1 = lambda x: x > 3\n",
    "condition2 = lambda x: x < 8\n",
    "\n",
    "# Extract elements satisfying both conditions\n",
    "extracted = extract_elements_with_conditions(arr, condition1, condition2)\n",
    "print(extracted)\n"
   ]
  },
  {
   "cell_type": "markdown",
   "metadata": {},
   "source": [
    "35. Create a NumPy function that extracts elements from a 2D array using row and column indices provided \n",
    "in separate arrays."
   ]
  },
  {
   "cell_type": "code",
   "execution_count": 35,
   "metadata": {},
   "outputs": [],
   "source": [
    "def extract_elements_2d(arr2d, row_indices, col_indices):\n",
    "\n",
    "    # Ensure the indices are NumPy arrays\n",
    "    row_indices = np.array(row_indices)\n",
    "    col_indices = np.array(col_indices)\n",
    "        \n",
    "    extracted_elements = arr2d[row_indices, col_indices]\n",
    "    \n",
    "    return extracted_elements\n",
    "\n",
    "# Example usage:\n",
    "arr2d = np.array([[1, 2, 3],\n",
    "                  [4, 5, 6],\n",
    "                  [7, 8, 9]])\n",
    "\n",
    "row_indices = [0, 1, 2]\n",
    "col_indices = [1, 2, 0]\n",
    "\n",
    "extracted = extract_elements_2d(arr2d, row_indices, col_indices)\n"
   ]
  },
  {
   "cell_type": "markdown",
   "metadata": {},
   "source": [
    "36. Given an array arr of shape (3, 3), add a scalar value of 5 to each element using NumPy broadcasting."
   ]
  },
  {
   "cell_type": "code",
   "execution_count": 36,
   "metadata": {},
   "outputs": [
    {
     "name": "stdout",
     "output_type": "stream",
     "text": [
      "[[5 8 6]\n",
      " [1 4 4]\n",
      " [4 8 2]]\n"
     ]
    },
    {
     "data": {
      "text/plain": [
       "array([[10, 13, 11],\n",
       "       [ 6,  9,  9],\n",
       "       [ 9, 13,  7]])"
      ]
     },
     "execution_count": 36,
     "metadata": {},
     "output_type": "execute_result"
    }
   ],
   "source": [
    "np.random.seed(0)\n",
    "arr = np.random.randint(1,9,3*3).reshape(3,3)\n",
    "print(arr)\n",
    "\n",
    "arr + 5"
   ]
  },
  {
   "cell_type": "markdown",
   "metadata": {},
   "source": [
    "37. Consider two arrays arr1 of shape (1, 3) and arr2 of shape (3, 4). Multiply each row of arr2 by the \n",
    "corresponding element in arr1 using NumPy broadcasting."
   ]
  },
  {
   "cell_type": "code",
   "execution_count": 37,
   "metadata": {},
   "outputs": [
    {
     "data": {
      "text/plain": [
       "array([[12, 21, 18, 24],\n",
       "       [40,  5, 30, 35],\n",
       "       [14, 16,  2, 10]])"
      ]
     },
     "execution_count": 37,
     "metadata": {},
     "output_type": "execute_result"
    }
   ],
   "source": [
    "arr1 = np.random.randint(0,9,3).reshape(1,3)\n",
    "arr2 = np.random.randint(0,9,12).reshape(3,4)\n",
    "\n",
    "arr = arr1.reshape(3,1) * arr2\n",
    "\n",
    "arr"
   ]
  },
  {
   "cell_type": "markdown",
   "metadata": {},
   "source": [
    "38. Given a 1D array arr1 of shape (1, 4) and a 2D array arr2 of shape (4, 3), add arr1 to each row of arr2 using \n",
    "NumPy broadcasting."
   ]
  },
  {
   "cell_type": "code",
   "execution_count": 38,
   "metadata": {},
   "outputs": [
    {
     "data": {
      "text/plain": [
       "array([[ 8, 16, 24],\n",
       "       [16, 20, 24],\n",
       "       [21, 24, 27],\n",
       "       [ 0,  0,  0]])"
      ]
     },
     "execution_count": 38,
     "metadata": {},
     "output_type": "execute_result"
    }
   ],
   "source": [
    "arr1 = np.random.randint(0,9,4).reshape(1,4)\n",
    "arr2  = np.array([[1, 2, 3],\n",
    "                  [4, 5, 6],\n",
    "                  [7, 8, 9],\n",
    "                  [1,2,3]])\n",
    "\n",
    "arr1.reshape(4,1) * arr2"
   ]
  },
  {
   "cell_type": "markdown",
   "metadata": {},
   "source": [
    "39. Consider two arrays arr1 of shape (3, 1) and arr2 of shape (1, 3). Add these arrays using NumPy \n",
    "broadcasting."
   ]
  },
  {
   "cell_type": "code",
   "execution_count": 39,
   "metadata": {},
   "outputs": [
    {
     "data": {
      "text/plain": [
       "array([[ 6,  9, 24],\n",
       "       [10, 15, 40],\n",
       "       [ 0,  0,  0]])"
      ]
     },
     "execution_count": 39,
     "metadata": {},
     "output_type": "execute_result"
    }
   ],
   "source": [
    "arr1 = np.random.randint(0,9,3).reshape(3,1)\n",
    "arr2 = np.random.randint(0,9,3).reshape(1,3)\n",
    "arr1*arr2\n",
    "\n",
    "\n",
    "\n"
   ]
  },
  {
   "cell_type": "markdown",
   "metadata": {},
   "source": [
    "40. Given arrays arr1 of shape (2, 3) and arr2 of shape (2, 2), perform multiplication using NumPy \n",
    "broadcasting. Handle the shape incompatibility."
   ]
  },
  {
   "cell_type": "code",
   "execution_count": 40,
   "metadata": {},
   "outputs": [
    {
     "data": {
      "text/plain": [
       "array([[  3,   7,   0],\n",
       "       [ 27, 343,   0],\n",
       "       [ 27, 343,   0]])"
      ]
     },
     "execution_count": 40,
     "metadata": {},
     "output_type": "execute_result"
    }
   ],
   "source": [
    "arr1 = np.random.randint(0,9,3).reshape(3,1)\n",
    "arr2 = np.random.randint(0,9,3).reshape(1,3)\n",
    "\n",
    "arr2**arr1"
   ]
  },
  {
   "cell_type": "markdown",
   "metadata": {},
   "source": [
    "41. Calculate column wise mean for the given array:"
   ]
  },
  {
   "cell_type": "code",
   "execution_count": 41,
   "metadata": {},
   "outputs": [
    {
     "name": "stdout",
     "output_type": "stream",
     "text": [
      "2.5\n",
      "3.5\n",
      "4.5\n"
     ]
    }
   ],
   "source": [
    "arr = np.array([[1, 2, 3], \n",
    "                [4, 5, 6]])\n",
    "\n",
    "for i in range(0,3):\n",
    "    print(np.mean(arr[:,i]))\n"
   ]
  },
  {
   "cell_type": "markdown",
   "metadata": {},
   "source": [
    "42. Find maximum value in each row of the given array:"
   ]
  },
  {
   "cell_type": "code",
   "execution_count": 42,
   "metadata": {},
   "outputs": [
    {
     "name": "stdout",
     "output_type": "stream",
     "text": [
      "3\n",
      "6\n"
     ]
    }
   ],
   "source": [
    "arr = np.array([[1, 2, 3], \n",
    "                [4, 5, 6]])\n",
    "\n",
    "for i in range(0,2):\n",
    "    print(np.max(arr[i]))\n"
   ]
  },
  {
   "cell_type": "markdown",
   "metadata": {},
   "source": [
    "43. For the given array, find indices of maximum value in each column."
   ]
  },
  {
   "cell_type": "code",
   "execution_count": 43,
   "metadata": {},
   "outputs": [
    {
     "name": "stdout",
     "output_type": "stream",
     "text": [
      "2\n",
      "2\n"
     ]
    }
   ],
   "source": [
    "arr = np.array([[1, 2, 3], [4, 5, 6]])\n",
    "\n",
    "for i in range(0,2):\n",
    "    print(np.argmax(arr[i]))\n",
    "\n"
   ]
  },
  {
   "cell_type": "markdown",
   "metadata": {},
   "source": [
    "44. For the given array, apply custom function to calculate moving sum along rows."
   ]
  },
  {
   "cell_type": "code",
   "execution_count": 44,
   "metadata": {},
   "outputs": [
    {
     "name": "stdout",
     "output_type": "stream",
     "text": [
      "6\n",
      "15\n"
     ]
    }
   ],
   "source": [
    "def moving_sum(arr):\n",
    "\n",
    "\n",
    "    for i in range(0,2):\n",
    "        print(np.sum(arr[i]))\n",
    "\n",
    "arr = np.array([[1, 2, 3], [4, 5, 6]])\n",
    "moving_sum(arr)"
   ]
  },
  {
   "cell_type": "markdown",
   "metadata": {},
   "source": [
    "45. In the given array, check if all elements in each column are even."
   ]
  },
  {
   "cell_type": "code",
   "execution_count": 45,
   "metadata": {},
   "outputs": [
    {
     "name": "stdout",
     "output_type": "stream",
     "text": [
      "Array:\n",
      "[[2 4 6]\n",
      " [3 5 7]]\n",
      "\n",
      "Are all elements in each column even?\n",
      "[False False False]\n"
     ]
    }
   ],
   "source": [
    "arr = np.array([[2, 4, 6], [3, 5, 7]])\n",
    "\n",
    "\n",
    "def check_all_even_columns(arr):\n",
    "\n",
    "    # Check if each element is even\n",
    "    is_even = (arr % 2 == 0)\n",
    "    \n",
    "    # Check if all elements in each column are even\n",
    "    all_even_columns = np.all(is_even, axis=0)\n",
    "    \n",
    "    return all_even_columns\n",
    "\n",
    "arr = np.array([[2, 4, 6], [3, 5, 7]])\n",
    "\n",
    "result = check_all_even_columns(arr)\n",
    "print(\"Array:\")\n",
    "print(arr)\n",
    "print(\"\\nAre all elements in each column even?\")\n",
    "print(result)\n"
   ]
  },
  {
   "cell_type": "markdown",
   "metadata": {},
   "source": [
    "46. Given a NumPy array arr, reshape it into a matrix of dimensions `m` rows and `n` columns. Return the \n",
    "reshaped matrix."
   ]
  },
  {
   "cell_type": "code",
   "execution_count": 46,
   "metadata": {},
   "outputs": [
    {
     "data": {
      "text/plain": [
       "array([[1, 2],\n",
       "       [3, 4],\n",
       "       [5, 6]])"
      ]
     },
     "execution_count": 46,
     "metadata": {},
     "output_type": "execute_result"
    }
   ],
   "source": [
    "def matrix(arr , m , n ):\n",
    "\n",
    "    size = len(arr)\n",
    "\n",
    "    if size != m*n:\n",
    "        return f\"array can not reshape due to insufficient element\"\n",
    "    \n",
    "    return arr.reshape(m,n)\n",
    "\n",
    "original_array = np.array([1, 2, 3, 4, 5, 6])\n",
    "matrix(original_array,3,2)"
   ]
  },
  {
   "cell_type": "markdown",
   "metadata": {},
   "source": [
    "47. Create a function that takes a matrix as input and returns the flattened array."
   ]
  },
  {
   "cell_type": "code",
   "execution_count": 47,
   "metadata": {},
   "outputs": [
    {
     "data": {
      "text/plain": [
       "array([1, 2, 3, 4, 5, 6])"
      ]
     },
     "execution_count": 47,
     "metadata": {},
     "output_type": "execute_result"
    }
   ],
   "source": [
    "def falt_matrix(arr):\n",
    "    \n",
    "    return arr.flatten()\n",
    "\n",
    "\n",
    "\n",
    "input_matrix = np.array([[1, 2, 3], [4, 5, 6]])\n",
    "\n",
    "falt_matrix(input_matrix)"
   ]
  },
  {
   "cell_type": "markdown",
   "metadata": {},
   "source": [
    "48. Write a function that concatenates two given arrays along a specified axis."
   ]
  },
  {
   "cell_type": "code",
   "execution_count": 48,
   "metadata": {},
   "outputs": [
    {
     "data": {
      "text/plain": [
       "array([[1, 2, 3, 1, 2, 3],\n",
       "       [4, 5, 6, 4, 5, 6]])"
      ]
     },
     "execution_count": 48,
     "metadata": {},
     "output_type": "execute_result"
    }
   ],
   "source": [
    "def concat_array(arr1 , arr2 , ax):\n",
    "    \n",
    "    return np.concatenate((arr1 ,arr1 ),axis = ax)\n",
    "\n",
    "arr1  = np.array([[1, 2, 3], [4, 5, 6]])\n",
    "arr2  = np.array([[1, 2, 3], [4, 5, 6]])\n",
    "\n",
    "concat_array(arr1,arr2 ,1)"
   ]
  },
  {
   "cell_type": "markdown",
   "metadata": {},
   "source": [
    "49. Create a function that splits an array into multiple sub-arrays along a specified axis."
   ]
  },
  {
   "cell_type": "code",
   "execution_count": 49,
   "metadata": {},
   "outputs": [
    {
     "name": "stdout",
     "output_type": "stream",
     "text": [
      "[[1]\n",
      " [4]\n",
      " [7]] \n",
      "\n",
      "[[2]\n",
      " [5]\n",
      " [8]] \n",
      "\n",
      "[[3]\n",
      " [6]\n",
      " [9]] \n",
      "\n",
      "[] \n",
      "\n",
      "[] \n",
      "\n"
     ]
    }
   ],
   "source": [
    "def split_array(arr,split,indices):\n",
    "    return np.array_split(arr,5,1)\n",
    "\n",
    "original_array = np.array([[1, 2, 3], [4, 5, 6], [7, 8, 9]])\n",
    "\n",
    "splitArray = split_array(original_array,3,1)\n",
    "\n",
    "for array in splitArray:\n",
    "    print(array,'\\n')"
   ]
  },
  {
   "cell_type": "markdown",
   "metadata": {},
   "source": [
    "50. Write a function that inserts and then deletes elements from a given array at specified indices."
   ]
  },
  {
   "cell_type": "code",
   "execution_count": 50,
   "metadata": {},
   "outputs": [
    {
     "data": {
      "text/plain": [
       "array([ 1, 10,  4, 11,  5])"
      ]
     },
     "execution_count": 50,
     "metadata": {},
     "output_type": "execute_result"
    }
   ],
   "source": [
    "def insert_and_delete_elements(original_array, indices_to_insert, values_to_insert, indices_to_delete):\n",
    "  \n",
    "    # Insert elements at specified indices\n",
    "    modified_array = np.insert(original_array, indices_to_insert, values_to_insert)\n",
    "    # Delete elements at specified indices\n",
    "    modified_array = np.delete(modified_array, indices_to_delete)\n",
    "    return modified_array\n",
    "\n",
    "original_array = np.array([1, 2, 3, 4, 5])\n",
    "indices_to_insert = [2, 4]\n",
    "values_to_insert = [10, 11]\n",
    "indices_to_delete = [1, 3]\n",
    "\n",
    "insert_and_delete_elements(original_array,indices_to_insert,values_to_insert,indices_to_delete)\n"
   ]
  },
  {
   "cell_type": "markdown",
   "metadata": {},
   "source": [
    "51. Create a NumPy array `arr1` with random integers and another array `arr2` with integers from 1 to 10. \n",
    "Perform element-wise addition between `arr1` and `arr2`."
   ]
  },
  {
   "cell_type": "code",
   "execution_count": 51,
   "metadata": {},
   "outputs": [
    {
     "data": {
      "text/plain": [
       "array([67, 12, 61, 37, 37, 81, 31, 44, 85, 66])"
      ]
     },
     "execution_count": 51,
     "metadata": {},
     "output_type": "execute_result"
    }
   ],
   "source": [
    "\n",
    "arr1 = np.random.randint(1,100,size=10)\n",
    "\n",
    "arr2 = np.arange(1,11)\n",
    "\n",
    "result = arr1 + arr2\n",
    "\n",
    "result\n"
   ]
  },
  {
   "cell_type": "markdown",
   "metadata": {},
   "source": [
    "52. Generate a NumPy array `arr1` with sequential integers from 10 to 1 and another array `arr2` with integers \n",
    "from 1 to 10. Subtract `arr2` from `arr1` element-wise."
   ]
  },
  {
   "cell_type": "code",
   "execution_count": 52,
   "metadata": {},
   "outputs": [
    {
     "data": {
      "text/plain": [
       "array([-9, -7, -5, -3, -1,  1,  3,  5,  7,  9])"
      ]
     },
     "execution_count": 52,
     "metadata": {},
     "output_type": "execute_result"
    }
   ],
   "source": [
    "arr1 = np.arange(10,0,-1)\n",
    "arr2 = np.arange(1,11)\n",
    "\n",
    "arr2 - arr1"
   ]
  },
  {
   "cell_type": "markdown",
   "metadata": {},
   "source": [
    "53. Create a NumPy array `arr1` with random integers and another array `arr2` with integers from 1 to 5. \n",
    "Perform element-wise multiplication between `arr1` and `arr2`."
   ]
  },
  {
   "cell_type": "code",
   "execution_count": 53,
   "metadata": {},
   "outputs": [
    {
     "name": "stdout",
     "output_type": "stream",
     "text": [
      "[29 35  1  1 37] \n",
      "\n",
      "[1 2 3 4 5] \n",
      "\n"
     ]
    },
    {
     "data": {
      "text/plain": [
       "array([ 29,  70,   3,   4, 185])"
      ]
     },
     "execution_count": 53,
     "metadata": {},
     "output_type": "execute_result"
    }
   ],
   "source": [
    "arr1 = np.random.randint(1,100,size=5)\n",
    "\n",
    "arr2 = np.arange(1,6)\n",
    "\n",
    "print(arr1,'\\n')\n",
    "print(arr2,'\\n')\n",
    "\n",
    "\n",
    "result = arr1 * arr2\n",
    "\n",
    "result"
   ]
  },
  {
   "cell_type": "markdown",
   "metadata": {},
   "source": [
    "54. Generate a NumPy array `arr1` with even integers from 2 to 10 and another array `arr2` with integers from 1 \n",
    "to 5. Perform element-wise division of `arr1` by `arr2`."
   ]
  },
  {
   "cell_type": "code",
   "execution_count": 54,
   "metadata": {},
   "outputs": [
    {
     "data": {
      "text/plain": [
       "array([4. , 2. , 2. , 0.5, 0.4])"
      ]
     },
     "execution_count": 54,
     "metadata": {},
     "output_type": "execute_result"
    }
   ],
   "source": [
    "arr1 = np.random.randint(2 // 2, (10 + 1) // 2, 5) * 2\n",
    "\n",
    "arr2 = np.arange(1,6)\n",
    "\n",
    "arr1/arr2\n"
   ]
  },
  {
   "cell_type": "code",
   "execution_count": null,
   "metadata": {},
   "outputs": [],
   "source": []
  },
  {
   "cell_type": "markdown",
   "metadata": {},
   "source": [
    "55. Create a NumPy array `arr1` with integers from 1 to 5 and another array `arr2` with the same numbers \n",
    "reversed. Calculate the exponentiation of `arr1` raised to the power of `arr2` element-wise."
   ]
  },
  {
   "cell_type": "code",
   "execution_count": 55,
   "metadata": {},
   "outputs": [
    {
     "data": {
      "text/plain": [
       "array([ 1, 16, 27, 16,  5])"
      ]
     },
     "execution_count": 55,
     "metadata": {},
     "output_type": "execute_result"
    }
   ],
   "source": [
    "arr1 = np.arange(1,6)\n",
    "arr2 = arr1[::-1]\n",
    "\n",
    "result = np.power(arr1 , arr2)\n",
    "result\n",
    "\n"
   ]
  },
  {
   "cell_type": "markdown",
   "metadata": {},
   "source": [
    "56. Write a function that counts the occurrences of a specific substring within a NumPy array of strings."
   ]
  },
  {
   "cell_type": "code",
   "execution_count": 56,
   "metadata": {},
   "outputs": [
    {
     "name": "stdout",
     "output_type": "stream",
     "text": [
      "Total occurrences of 'hello': 3\n"
     ]
    }
   ],
   "source": [
    "import numpy as np\n",
    "\n",
    "def count_substring_occurrences(array, substring):\n",
    "\n",
    "    count = 0\n",
    "    \n",
    "    for element in np.nditer(array):\n",
    "        # Check if the element is a string and then count occurrences of substring\n",
    "        if isinstance(element.item(), str):\n",
    "            count += element.item().count(substring)    \n",
    "    return count\n",
    "\n",
    "\n",
    "arr = np.array(['hello', 'world', 'hello', 'numpy', 'hello'])\n",
    "\n",
    "substring = \"hello\"\n",
    "\n",
    "result = count_substring_occurrences(arr, substring)\n",
    "print(f\"Total occurrences of '{substring}':\", result)\n",
    "\n",
    "\n",
    "\n",
    "\n"
   ]
  },
  {
   "cell_type": "markdown",
   "metadata": {},
   "source": [
    "57. Write a function that extracts uppercase characters from a NumPy array of strings.\n",
    "\n",
    "arr = np.array(['Hello', 'World', 'OpenAI', 'GPT'])"
   ]
  },
  {
   "cell_type": "code",
   "execution_count": 57,
   "metadata": {},
   "outputs": [
    {
     "data": {
      "text/plain": [
       "array(['H', 'W', 'OAI', 'GPT'], dtype='<U3')"
      ]
     },
     "execution_count": 57,
     "metadata": {},
     "output_type": "execute_result"
    }
   ],
   "source": [
    "def extract_uppercase(arr):\n",
    "    cap_array = []\n",
    "    for word in arr:\n",
    "        letter_arr = \"\"\n",
    "        for letter in word:\n",
    "            if letter in 'QWERTYUIOPASDFGHJKLZXCVBNM':\n",
    "                letter_arr += letter\n",
    "        cap_array.append(letter_arr)\n",
    "    cap_array = np.array(cap_array)\n",
    "\n",
    "    return cap_array\n",
    "\n",
    "arr = np.array(['Hello', 'World', 'OpenAI', 'GPT'])\n",
    "\n",
    "extract_uppercase(arr)\n"
   ]
  },
  {
   "cell_type": "markdown",
   "metadata": {},
   "source": [
    "58. Write a function that replaces occurrences of a substring in a NumPy array of strings with a new string."
   ]
  },
  {
   "cell_type": "code",
   "execution_count": 58,
   "metadata": {},
   "outputs": [
    {
     "data": {
      "text/plain": [
       "array(['Hello', 'World', 'OpenAI', 'GPT'], dtype='<U6')"
      ]
     },
     "execution_count": 58,
     "metadata": {},
     "output_type": "execute_result"
    }
   ],
   "source": [
    "arr"
   ]
  },
  {
   "cell_type": "code",
   "execution_count": 59,
   "metadata": {},
   "outputs": [
    {
     "name": "stdout",
     "output_type": "stream",
     "text": [
      "Original array: ['apple' 'banana' 'grape' 'pineapple']\n",
      "Modified array: ['goava' 'banana' 'grape' 'pinegoava']\n"
     ]
    }
   ],
   "source": [
    "def replace_substring(array,old_substring,new_substring):\n",
    "    modified_array = np.copy(array)\n",
    "    \n",
    "    # Iterate through each element in the NumPy array\n",
    "    for i in np.ndindex(array.shape):\n",
    "        # Check if the element is a string and then replace occurrences of the old substring\n",
    "        if isinstance(array[i], str):\n",
    "            modified_array[i] = array[i].replace(old_substring, new_substring)\n",
    "    \n",
    "    return modified_array\n",
    "\n",
    "array = np.array(['apple', 'banana', 'grape', 'pineapple'])\n",
    "old_substring = \"apple\"\n",
    "new_substring = \"goava\"\n",
    "result = replace_substring(array,old_substring,new_substring)\n",
    "print(\"Original array:\", array)\n",
    "print(\"Modified array:\", result)"
   ]
  },
  {
   "cell_type": "markdown",
   "metadata": {},
   "source": [
    "59. Write a function that concatenates strings in a NumPy array element-wise."
   ]
  },
  {
   "cell_type": "code",
   "execution_count": 60,
   "metadata": {},
   "outputs": [
    {
     "name": "stdout",
     "output_type": "stream",
     "text": [
      "Concatenated array: OpenAI\n"
     ]
    }
   ],
   "source": [
    "def concatenate_strings(array):\n",
    "    concatenated_array = \"\"\n",
    "    for i in range(array.size):\n",
    "        concatenated_array += array[i]\n",
    "\n",
    "\n",
    "    \n",
    "    return concatenated_array\n",
    "\n",
    "arr1 = np.array(['Hello ', 'World '])\n",
    "arr2 = np.array(['Open', 'AI'])\n",
    "\n",
    "result = concatenate_strings(arr1)\n",
    "result = concatenate_strings(arr2)\n",
    "\n",
    "print(\"Concatenated array:\", result)\n"
   ]
  },
  {
   "cell_type": "markdown",
   "metadata": {},
   "source": [
    "60. Write a function that finds the length of the longest string in a NumPy array.\n"
   ]
  },
  {
   "cell_type": "code",
   "execution_count": 61,
   "metadata": {},
   "outputs": [
    {
     "name": "stdout",
     "output_type": "stream",
     "text": [
      "Longest word in array with letters : 9\n"
     ]
    }
   ],
   "source": [
    "def longest_string(arr):\n",
    "    length = 0\n",
    "    for i in arr:\n",
    "        if len(i) > length : \n",
    "            length = len(i) \n",
    "\n",
    "    return length\n",
    "\n",
    "arr = np.array(['apple', 'banana', 'grape', 'pineapple'])\n",
    "print(f\"Longest word in array with letters : {longest_string(arr)}\")\n",
    "\n"
   ]
  },
  {
   "cell_type": "markdown",
   "metadata": {},
   "source": [
    " 61. Create a dataset of 100 random integers between 1 and 1000. Compute the mean, median, variance, and \n",
    "standard deviation of the dataset using NumPy's functions."
   ]
  },
  {
   "cell_type": "code",
   "execution_count": 62,
   "metadata": {},
   "outputs": [
    {
     "name": "stdout",
     "output_type": "stream",
     "text": [
      "mean =  515.64\n",
      "median =  555.5\n",
      "variance =  92286.27040000001\n",
      "stanard deviation =  303.78655401449225\n"
     ]
    }
   ],
   "source": [
    "data = np.random.randint(1,1000,100)\n",
    "print(\"mean = \",data.mean())\n",
    "print(\"median = \",np.median(data))\n",
    "print(\"variance = \",np.var(data))\n",
    "print(\"stanard deviation = \",np.std(data))\n",
    "\n",
    "\n",
    "\n"
   ]
  },
  {
   "cell_type": "markdown",
   "metadata": {},
   "source": [
    " 62. Generate an array of 50 random numbers between 1 and 100. Find the 25th and 75th percentiles of the \n",
    "dataset."
   ]
  },
  {
   "cell_type": "code",
   "execution_count": 63,
   "metadata": {},
   "outputs": [
    {
     "name": "stdout",
     "output_type": "stream",
     "text": [
      " the 25th percentile is:  22.75\n",
      " the 75th percentile is:  71.75\n"
     ]
    }
   ],
   "source": [
    "arr=np.random.randint(1,100,50)\n",
    "percentile=np.percentile(arr,[25,75])\n",
    "print(\" the 25th percentile is: \",percentile[0])\n",
    "print(\" the 75th percentile is: \",percentile[1])"
   ]
  },
  {
   "cell_type": "markdown",
   "metadata": {},
   "source": [
    "63. Create two arrays representing two sets of variables. Compute the correlation coefficient between these \n",
    "arrays using NumPy's `corrcoef` function."
   ]
  },
  {
   "cell_type": "code",
   "execution_count": 64,
   "metadata": {},
   "outputs": [
    {
     "name": "stdout",
     "output_type": "stream",
     "text": [
      "0.1643989873053573\n"
     ]
    }
   ],
   "source": [
    "ls1=[1,2,3,4,5]\n",
    "ls2=[4,3,2,1,6]\n",
    "arr1=np.array(ls1)\n",
    "arr2=np.array(ls2)\n",
    "coef_mat=np.corrcoef(arr1,arr2)\n",
    "print(coef_mat[0,1]) # this give the correlation coefficient between arr1 and arr2."
   ]
  },
  {
   "cell_type": "code",
   "execution_count": 65,
   "metadata": {},
   "outputs": [
    {
     "name": "stdout",
     "output_type": "stream",
     "text": [
      "[[113 107 121]\n",
      " [ 93 101  82]\n",
      " [173 155 151]]\n"
     ]
    }
   ],
   "source": [
    "#Q64. Create two matrices and perform matrix multiplication using NumPy's `dot` function.\n",
    "arr1=np.random.randint(1,10,(3,3))\n",
    "arr2=np.random.randint(1,10,(3,3))\n",
    "print(np.dot(arr1,arr2))"
   ]
  },
  {
   "cell_type": "code",
   "execution_count": 66,
   "metadata": {},
   "outputs": [
    {
     "name": "stdout",
     "output_type": "stream",
     "text": [
      " the 10th percentiles : 157.0\n",
      " the 50th percentiles : 640.0\n",
      " the 90th percentiles : 911.0\n"
     ]
    }
   ],
   "source": [
    "#Q65. Create an array of 50 integers between 10 and 1000. Calculate the 10th, 50th (median), and 90th \n",
    "# percentiles along with the first and third quartiles.\n",
    "# we have function np.percentile(arr,[list of number which is numberth percentile])\n",
    "arr=np.random.randint(10,1000,50)\n",
    "\n",
    "percentile=np.percentile(arr,[10,50,90])\n",
    "print(\" the 10th percentiles :\",percentile[0])\n",
    "print(\" the 50th percentiles :\",percentile[1])\n",
    "print(\" the 90th percentiles :\",percentile[2])"
   ]
  },
  {
   "cell_type": "code",
   "execution_count": 67,
   "metadata": {},
   "outputs": [
    {
     "name": "stdout",
     "output_type": "stream",
     "text": [
      "[ 2  3  4  6  7  8  9 10]\n",
      "Element not found.\n"
     ]
    }
   ],
   "source": [
    "#Q66. Create a NumPy array of integers and find the index of a specific element.\n",
    "import numpy as np\n",
    "\n",
    "def find_element_index(arr, ele):\n",
    "    \n",
    "    indices = np.where(arr == ele)[0]\n",
    "    if indices.size > 0:\n",
    "        return indices[0]\n",
    "    else:\n",
    "        return \"Element not found.\"\n",
    "arr = np.array([2, 3, 4, 6, 7, 8, 9, 10])\n",
    "print(arr)\n",
    "ele = int(input(\"Enter your element: \"))\n",
    "index = find_element_index(arr, ele)\n",
    "print(f\"The index is: {index}\" if isinstance(index, int) else index)"
   ]
  },
  {
   "cell_type": "code",
   "execution_count": 68,
   "metadata": {},
   "outputs": [
    {
     "name": "stdout",
     "output_type": "stream",
     "text": [
      "[1 2 3 4 5 6 8]\n"
     ]
    }
   ],
   "source": [
    "#Q67. Generate a random NumPy array and sort it in ascending order.\n",
    "ls=[1,3,4,5,8,6,2]\n",
    "arr=np.array(ls)\n",
    "arr1=np.sort(arr)\n",
    "print(arr1)"
   ]
  },
  {
   "cell_type": "code",
   "execution_count": 69,
   "metadata": {},
   "outputs": [
    {
     "name": "stdout",
     "output_type": "stream",
     "text": [
      "[25 42 30]\n"
     ]
    }
   ],
   "source": [
    "#Q68. Filter elements >20  in the given NumPy array\n",
    "arr = np.array([12, 25, 6, 42, 8, 30])\n",
    "arr1=arr[arr>20]\n",
    "print(arr1)"
   ]
  },
  {
   "cell_type": "code",
   "execution_count": 70,
   "metadata": {},
   "outputs": [
    {
     "name": "stdout",
     "output_type": "stream",
     "text": [
      "[12 15]\n"
     ]
    }
   ],
   "source": [
    "#Q69. Filter elements which are divisible by 3 from a given NumPy array\n",
    "arr = np.array([1, 5, 8, 12, 15])\n",
    "arr1=arr[arr%3==0]\n",
    "print(arr1)"
   ]
  },
  {
   "cell_type": "code",
   "execution_count": 71,
   "metadata": {},
   "outputs": [
    {
     "name": "stdout",
     "output_type": "stream",
     "text": [
      "[20 30 40]\n"
     ]
    }
   ],
   "source": [
    "#Q70. Filter elements which are ≥ 20 and ≤ 40 from a given NumPy array.\n",
    "arr = np.array([10, 20, 30, 40, 50])\n",
    "arr1 = arr[(arr>=20) & (arr<=40)]\n",
    "print(arr1)"
   ]
  },
  {
   "cell_type": "code",
   "execution_count": 72,
   "metadata": {},
   "outputs": [
    {
     "name": "stdout",
     "output_type": "stream",
     "text": [
      "=\n"
     ]
    }
   ],
   "source": [
    "#Q71. For the given NumPy array, check its byte order using the `dtype` attribute byteorder\n",
    "arr = np.array([1, 2, 3])\n",
    "x=arr.dtype.byteorder\n",
    "print(x)  # it give '='when byteorder of array is 'little' and '|' when byteorder of array is 'big'"
   ]
  },
  {
   "cell_type": "code",
   "execution_count": 73,
   "metadata": {},
   "outputs": [
    {
     "name": "stdout",
     "output_type": "stream",
     "text": [
      "[  33554432   50331648   67108864   83886080  100663296 1308622848\n",
      "  150994944]\n"
     ]
    }
   ],
   "source": [
    "#Q72. For the given NumPy array, perform byte swapping in place using `byteswap()`.\n",
    "arr=np.array([2,3,4,5,6,78,9])\n",
    "arr1=arr.byteswap()\n",
    "print(arr1)"
   ]
  },
  {
   "cell_type": "code",
   "execution_count": 74,
   "metadata": {},
   "outputs": [
    {
     "name": "stdout",
     "output_type": "stream",
     "text": [
      "[  16777216   33554432   50331648   67108864   83886080 1124073472\n",
      "  134217728 1509949440]\n"
     ]
    }
   ],
   "source": [
    "#Q73. For the given NumPy array, swap its byte order without modifying the original array using \n",
    "# `newbyteorder()`\n",
    "arr=np.array([1,2,3,4,5,67,8,90])\n",
    "arr1=arr.newbyteorder()   # byteorder is not callable but newbyteorder is callable.\n",
    "print(arr1)"
   ]
  },
  {
   "cell_type": "code",
   "execution_count": 75,
   "metadata": {},
   "outputs": [
    {
     "name": "stdout",
     "output_type": "stream",
     "text": [
      "[16777216 33554432 50331648]\n"
     ]
    }
   ],
   "source": [
    "#Q74.  For the given NumPy array and swap its byte order conditionally based on system endianness using \n",
    "# `newbyteorder()`.\n",
    "import sys\n",
    "arr = np.array([1, 2, 3], dtype=np.int32)\n",
    "arr=arr.newbyteorder('big' if sys.byteorder=='little' else 'little') \n",
    "# from this function newbyteorder -> we convert one byteorder to another\n",
    "print(arr)"
   ]
  },
  {
   "cell_type": "code",
   "execution_count": 76,
   "metadata": {},
   "outputs": [
    {
     "name": "stdout",
     "output_type": "stream",
     "text": [
      "not needed\n"
     ]
    }
   ],
   "source": [
    "#Q75. For the given NumPy array, check if byte swapping is necessary for the current system using `dtype` \n",
    "# attribute `byteorder`.\n",
    "import sys\n",
    "arr = np.array([1, 2, 3], dtype=np.int32)\n",
    "byte_swap_needed =  (sys.byteorder=='int32')\n",
    "if byte_swap_needed:\n",
    "    print(\"it is needed\")\n",
    "else:\n",
    "    print(\"not needed\")  "
   ]
  },
  {
   "cell_type": "code",
   "execution_count": 77,
   "metadata": {},
   "outputs": [
    {
     "name": "stdout",
     "output_type": "stream",
     "text": [
      "[ 1  2  3  4  5  6  7  8  9 10]\n",
      "[ 1  2  3  4  5  6  7  8  9 10]\n",
      "[  1   2   3   4 100   6   7   8   9  10]\n"
     ]
    }
   ],
   "source": [
    "#Q76.  Create a NumPy array `arr1` with values from 1 to 10. Create a copy of `arr1` named `copy_arr` and modify \n",
    "# an element in `copy_arr`. Check if modifying `copy_arr` affects `arr1`.\n",
    "ls=[1,2,3,4,5,6,7,8,9,10]\n",
    "arr=np.array(ls)\n",
    "# print(arr)\n",
    "arr1=arr.copy()\n",
    "print(arr1)\n",
    "arr1[4]=100\n",
    "print(arr)\n",
    "print(arr1)\n",
    "# don't effect 'arr1'"
   ]
  },
  {
   "cell_type": "code",
   "execution_count": 78,
   "metadata": {},
   "outputs": [
    {
     "name": "stdout",
     "output_type": "stream",
     "text": [
      "[[   3   10]\n",
      " [   2 1000]]\n",
      "[[   8    8    6]\n",
      " [   2    3   10]\n",
      " [   9    2 1000]]\n"
     ]
    }
   ],
   "source": [
    "#Q77. Create a 2D NumPy array `matrix` of shape (3, 3) with random integers. Extract a slice `view_slice` from \n",
    "# the matrix. Modify an element in `view_slice` and observe if it changes the original `matrix`.\n",
    "arr=np.random.randint(1,10,(3,3))\n",
    "arr1=arr[1:,1:]\n",
    "arr1[0][1]=10\n",
    "arr1[1][1]=1000\n",
    "print(arr1)\n",
    "print(arr)"
   ]
  },
  {
   "cell_type": "code",
   "execution_count": 79,
   "metadata": {},
   "outputs": [
    {
     "name": "stdout",
     "output_type": "stream",
     "text": [
      "[ 9 10 11]\n",
      "[[ 1  2  3]\n",
      " [ 4  5  6]\n",
      " [ 7  8  9]\n",
      " [10 11 12]]\n"
     ]
    }
   ],
   "source": [
    "#Q78. Create a NumPy array `array_a` of shape (4, 3) with sequential integers from 1 to 12. Extract a slice \n",
    "# `view_b` from `array_a` and broadcast the addition of 5 to view_b. Check if it alters the original `array_a`.\n",
    "ls=[i for i in range(1,13)]\n",
    "arr=np.array(ls)\n",
    "arr1=arr.reshape((4,3))\n",
    "arr2=arr1[1]\n",
    "print(arr2+5)\n",
    "print(arr1)\n",
    "# not effected"
   ]
  },
  {
   "cell_type": "code",
   "execution_count": 80,
   "metadata": {},
   "outputs": [
    {
     "name": "stdout",
     "output_type": "stream",
     "text": [
      "[[1 2]\n",
      " [3 4]\n",
      " [5 6]\n",
      " [7 8]]\n",
      "[[  1   2]\n",
      " [  3   4]\n",
      " [  5  20]\n",
      " [  7 100]]\n",
      "[[  1   2   3   4]\n",
      " [  5  20   7 100]]\n"
     ]
    }
   ],
   "source": [
    "#Q79.  Create a NumPy array `orig_array` of shape (2, 4) with values from 1 to 8. Create a reshaped view \n",
    "# `reshaped_view` of shape (4, 2) from orig_array. Modify an element in `reshaped_view` and check if it \n",
    "# reflects changes in the original `orig_array`.\n",
    "ls=[i for i in range(1,9)]\n",
    "arr=np.array(ls)\n",
    "arr1=arr.reshape((2,4))\n",
    "arr2=arr1.reshape((4,2))\n",
    "print(arr2)\n",
    "arr2[3][1]=100\n",
    "arr2[2][1]=20\n",
    "print(arr2)\n",
    "print(arr1)\n",
    "# affected arr1"
   ]
  },
  {
   "cell_type": "code",
   "execution_count": 81,
   "metadata": {},
   "outputs": [
    {
     "name": "stdout",
     "output_type": "stream",
     "text": [
      "[[ 9  5  1 12]\n",
      " [ 3  6 17  9]\n",
      " [ 2 18 17  4]]\n",
      "[ 9 12  6 17  9 18 17]\n",
      "[ 9 12  6 17 26 21 17]\n",
      "[[ 9  5  1 12]\n",
      " [ 3  6 17  9]\n",
      " [ 2 18 17  4]]\n"
     ]
    }
   ],
   "source": [
    "#Q80. Create a NumPy array `data` of shape (3, 4) with random integers. Extract a copy `data_copy` of \n",
    "# elements greater than 5. Modify an element in `data_copy` and verify if it affects the original `data`.\n",
    "arr=np.random.randint(1,20,(3,4))\n",
    "print(arr)\n",
    "arr1=arr[arr>5]\n",
    "print(arr1)\n",
    "arr1[5]=21\n",
    "arr1[4]=26\n",
    "print(arr1)\n",
    "print(arr)\n",
    "# not effected"
   ]
  },
  {
   "cell_type": "code",
   "execution_count": 82,
   "metadata": {},
   "outputs": [
    {
     "name": "stdout",
     "output_type": "stream",
     "text": [
      "[[11 11  8]\n",
      " [ 7  6  7]\n",
      " [14 10  9]]\n",
      "[[ 7  7  2]\n",
      " [ 3 -4  1]\n",
      " [ 2 -2 -3]]\n"
     ]
    }
   ],
   "source": [
    "#81.  Create two matrices A and B of identical shape containing integers and perform addition and subtraction \n",
    "# operations between them.\n",
    "import numpy.matlib as nm \n",
    "arr1=nm.random.randint(1,10,(3,3))\n",
    "arr2=nm.random.randint(1,10,(3,3))\n",
    "print(arr1+arr2)\n",
    "print(arr1-arr2)"
   ]
  },
  {
   "cell_type": "code",
   "execution_count": 83,
   "metadata": {},
   "outputs": [
    {
     "name": "stdout",
     "output_type": "stream",
     "text": [
      "[[ 33  60  27  18]\n",
      " [ 72 112  48  40]\n",
      " [ 53  68  27  30]]\n"
     ]
    }
   ],
   "source": [
    "#Q82. Generate two matrices `C` (3x2) and `D` (2x4) and perform matrix multiplication\n",
    "arr1=nm.random.randint(1,10,(3,2))\n",
    "arr2=nm.random.randint(1,10,(2,4))\n",
    "print(nm.dot(arr1,arr2))"
   ]
  },
  {
   "cell_type": "code",
   "execution_count": 84,
   "metadata": {},
   "outputs": [
    {
     "name": "stdout",
     "output_type": "stream",
     "text": [
      "[[2 1 7]\n",
      " [1 5 9]\n",
      " [5 4 4]]\n",
      "[[2 1 5]\n",
      " [1 5 4]\n",
      " [7 9 4]]\n"
     ]
    }
   ],
   "source": [
    "#Q83. Create a matrix `E` and find its transpose\n",
    "arr1=nm.random.randint(1,10,(3,3))\n",
    "print(arr1)\n",
    "print(arr1.T)"
   ]
  },
  {
   "cell_type": "code",
   "execution_count": 85,
   "metadata": {},
   "outputs": [
    {
     "name": "stdout",
     "output_type": "stream",
     "text": [
      "[[9 9 8]\n",
      " [1 4 9]\n",
      " [8 8 2]]\n",
      "-137.99999999999994\n"
     ]
    }
   ],
   "source": [
    "#Q84. Generate a square matrix `F` and compute its determinant\n",
    "arr=nm.random.randint(1,10,(3,3))\n",
    "print(arr)\n",
    "print(np.linalg.det(arr))"
   ]
  },
  {
   "cell_type": "code",
   "execution_count": 86,
   "metadata": {},
   "outputs": [
    {
     "name": "stdout",
     "output_type": "stream",
     "text": [
      "[[-0.07692308 -0.19230769  0.26923077]\n",
      " [-0.03076923  0.22307692  0.00769231]\n",
      " [ 0.23076923  0.07692308 -0.30769231]]\n"
     ]
    }
   ],
   "source": [
    "#Q85. Create a square matrix `G` and find its inverse.\n",
    "arr=nm.random.randint(1,10,(3,3))\n",
    "print(np.linalg.inv(arr))"
   ]
  }
 ],
 "metadata": {
  "kernelspec": {
   "display_name": "Python 3 (ipykernel)",
   "language": "python",
   "name": "python3"
  },
  "language_info": {
   "codemirror_mode": {
    "name": "ipython",
    "version": 3
   },
   "file_extension": ".py",
   "mimetype": "text/x-python",
   "name": "python",
   "nbconvert_exporter": "python",
   "pygments_lexer": "ipython3",
   "version": "3.12.5"
  }
 },
 "nbformat": 4,
 "nbformat_minor": 2
}
